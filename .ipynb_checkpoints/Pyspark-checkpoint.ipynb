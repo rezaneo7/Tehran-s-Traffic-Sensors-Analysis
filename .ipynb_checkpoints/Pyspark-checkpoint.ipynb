{
 "cells": [
  {
   "cell_type": "markdown",
   "metadata": {
    "id": "nGyFTTD-63dY"
   },
   "source": [
    "## **Spark Installation And Downloading Data**"
   ]
  },
  {
   "cell_type": "markdown",
   "metadata": {
    "id": "jWmCcK2N4Wuo"
   },
   "source": [
    "**Update Packages Info**"
   ]
  },
  {
   "cell_type": "code",
   "execution_count": null,
   "metadata": {
    "colab": {
     "base_uri": "https://localhost:8080/"
    },
    "id": "LLXzPdXDk3Bc",
    "outputId": "c0b394cb-5c7e-472f-edd1-18f219339f1a"
   },
   "outputs": [],
   "source": [
    "!apt update"
   ]
  },
  {
   "cell_type": "markdown",
   "metadata": {
    "id": "Xz2YAoRy4-Ws"
   },
   "source": [
    "**Installing Pyspark and JDK**"
   ]
  },
  {
   "cell_type": "code",
   "execution_count": null,
   "metadata": {
    "colab": {
     "base_uri": "https://localhost:8080/"
    },
    "id": "byOvos62jxVC",
    "outputId": "8d8d6402-caaa-47e6-fede-25eb7c71d095"
   },
   "outputs": [],
   "source": [
    "!pip install pyspark\n",
    "!pip install -U -q PyDrive\n",
    "!apt install openjdk-8-jdk-headless -qq\n",
    "import os\n",
    "os.environ[\"JAVA_HOME\"] = \"/usr/lib/jvm/java-8-openjdk-amd64\""
   ]
  },
  {
   "cell_type": "markdown",
   "metadata": {
    "id": "ehPv0KiM5EA2"
   },
   "source": [
    "**Initializing SparkContext**\n"
   ]
  },
  {
   "cell_type": "code",
   "execution_count": null,
   "metadata": {
    "id": "gU6ZadM4jald"
   },
   "outputs": [],
   "source": [
    "import pyspark\n",
    "from pyspark import SparkContext, SparkConf\n",
    "from pyspark.sql import *\n",
    "from pyspark.sql.functions import *\n",
    "from pyspark.sql.types import *\n",
    "from pyspark.ml.fpm import FPGrowth\n",
    "from pyspark.ml.feature import MinHashLSH\n",
    "import scipy.sparse\n",
    "from pyspark.ml.linalg import Vectors, _convert_to_vector, VectorUDT\n",
    "import numpy as np\n",
    "\n",
    "# create conf\n",
    "conf = SparkConf().setAppName(\"Project\")\n",
    "conf.set(\"spark.ui.port\", \"4050\")\n",
    "\n",
    "# create the context\n",
    "sc = pyspark.SparkContext(conf = conf)\n",
    "spark = SparkSession.builder.getOrCreate()"
   ]
  },
  {
   "cell_type": "markdown",
   "metadata": {
    "id": "D4zZWuN85OmF"
   },
   "source": [
    "**Installing Spark UI**\n",
    "\n",
    "Here we first download ngrok"
   ]
  },
  {
   "cell_type": "code",
   "execution_count": null,
   "metadata": {
    "colab": {
     "base_uri": "https://localhost:8080/"
    },
    "id": "tr1SVjttlKqQ",
    "outputId": "45397e4e-a84a-4343-94c3-0467d9888d32"
   },
   "outputs": [],
   "source": [
    "!wget https://bin.equinox.io/c/4VmDzA7iaHb/ngrok-stable-linux-amd64.zip\n",
    "!unzip ngrok-stable-linux-amd64.zip"
   ]
  },
  {
   "cell_type": "markdown",
   "metadata": {
    "id": "h9g1d6WC5XjQ"
   },
   "source": [
    "Link to my account on ngrok"
   ]
  },
  {
   "cell_type": "code",
   "execution_count": null,
   "metadata": {
    "id": "hsRoKBZrqdw2"
   },
   "outputs": [],
   "source": [
    "get_ipython().system_raw('./ngrok authtoken 1ns7zFuhFPYTbt70oIUf6gofM9T_7mLYN4vqb5uJqpaW1eiix')"
   ]
  },
  {
   "cell_type": "markdown",
   "metadata": {
    "id": "d07ScM-35b7d"
   },
   "source": [
    "Set spark ui port address"
   ]
  },
  {
   "cell_type": "code",
   "execution_count": null,
   "metadata": {
    "id": "B01UFcWClPKA"
   },
   "outputs": [],
   "source": [
    "get_ipython().system_raw('./ngrok http 4050 &')\n"
   ]
  },
  {
   "cell_type": "markdown",
   "metadata": {
    "id": "OM4rBZfe5lmR"
   },
   "source": [
    "Get Spark Ui Link"
   ]
  },
  {
   "cell_type": "code",
   "execution_count": null,
   "metadata": {
    "colab": {
     "base_uri": "https://localhost:8080/"
    },
    "id": "MgjvOCH1GKi-",
    "outputId": "b1986a16-1fb1-4f88-a981-d2231a68259c"
   },
   "outputs": [],
   "source": [
    "!curl -s http://localhost:4040/api/tunnels | python3 -c \\\n",
    "    \"import sys, json; print(json.load(sys.stdin)['tunnels'][0]['public_url'])\""
   ]
  },
  {
   "cell_type": "markdown",
   "metadata": {
    "id": "n8MXXUJ96CpM"
   },
   "source": [
    "**Download Data From Another Google Drive With Link**"
   ]
  },
  {
   "cell_type": "code",
   "execution_count": null,
   "metadata": {
    "id": "5UTwcXsetyvJ"
   },
   "outputs": [],
   "source": [
    "!pip install -U -q PyDrive \n",
    "  \n",
    "from pydrive.auth import GoogleAuth \n",
    "from pydrive.drive import GoogleDrive \n",
    "from google.colab import auth \n",
    "from oauth2client.client import GoogleCredentials \n",
    "  \n",
    "  \n",
    "# Authenticate and create the PyDrive client. \n",
    "auth.authenticate_user() \n",
    "gauth = GoogleAuth() \n",
    "gauth.credentials = GoogleCredentials.get_application_default() \n",
    "drive = GoogleDrive(gauth)"
   ]
  },
  {
   "cell_type": "code",
   "execution_count": null,
   "metadata": {
    "id": "oqp2Uql3slIM"
   },
   "outputs": [],
   "source": [
    "\n",
    "from os import path\n",
    "url = 'data-path'\n",
    "id = url.split(\"/\")[-2] \n",
    "  \n",
    "downloaded = drive.CreateFile({'id':id})  \n",
    "downloaded.GetContentFile('violationtraffic.rar')  \n"
   ]
  },
  {
   "cell_type": "markdown",
   "metadata": {
    "id": "Anq46Pqo6JkO"
   },
   "source": [
    "**Mount Google Drive**"
   ]
  },
  {
   "cell_type": "code",
   "execution_count": null,
   "metadata": {
    "colab": {
     "base_uri": "https://localhost:8080/"
    },
    "id": "HDSD81ZDsOVW",
    "outputId": "2de2b8cd-6cb8-4120-bc79-6bb19ef747a0"
   },
   "outputs": [],
   "source": [
    "from google.colab import drive\n",
    "drive.mount('/content/drive')"
   ]
  },
  {
   "cell_type": "markdown",
   "metadata": {
    "id": "14KMfUhi6Ur6"
   },
   "source": [
    "**Unzip Data File**"
   ]
  },
  {
   "cell_type": "code",
   "execution_count": null,
   "metadata": {
    "colab": {
     "base_uri": "https://localhost:8080/"
    },
    "id": "jCJ0-pgywWzk",
    "outputId": "2ff31d55-78bd-497a-97eb-a4e1b07beea7"
   },
   "outputs": [],
   "source": [
    "!unrar x drive/MyDrive/violationtraffic_csv.rar "
   ]
  },
  {
   "cell_type": "markdown",
   "metadata": {
    "id": "2pJxooS-jalo"
   },
   "source": [
    "## **EDA**\n",
    "\n"
   ]
  },
  {
   "cell_type": "code",
   "execution_count": null,
   "metadata": {
    "colab": {
     "base_uri": "https://localhost:8080/"
    },
    "id": "VxqjKonNjalp",
    "outputId": "e94809a3-e829-491f-9378-bb91b0941c92"
   },
   "outputs": [],
   "source": [
    "# File location and type\n",
    "file_location = \"violationtraffic.csv\"\n",
    "file_type = \"csv\"\n",
    "\n",
    "# CSV options\n",
    "infer_schema = \"True\"\n",
    "first_row_is_header = \"True\"\n",
    "delimiter = \",\"\n",
    "\n",
    "# The applied options are for CSV files. For other file types, these will be ignored.\n",
    "df = spark.read.format(file_type) \\\n",
    "  .option(\"inferSchema\", infer_schema) \\\n",
    "  .option(\"header\", first_row_is_header) \\\n",
    "  .option(\"sep\", delimiter) \\\n",
    "  .load(file_location)\n",
    "\n",
    "\n",
    "df.limit(20).show()"
   ]
  },
  {
   "cell_type": "markdown",
   "metadata": {
    "id": "laPpGMe68a8L"
   },
   "source": [
    "**Number of Records Per CrimeCode**"
   ]
  },
  {
   "cell_type": "code",
   "execution_count": null,
   "metadata": {
    "colab": {
     "base_uri": "https://localhost:8080/"
    },
    "id": "jxWReQgY8bgl",
    "outputId": "769d1514-cb25-4f73-f2dd-b398409ec5e4"
   },
   "outputs": [],
   "source": [
    "NumRecords_code_df = df.select(col(\"CrimeCode\")).rdd.map(lambda id: (id[0], 1)).reduceByKey(lambda x,y: x+y).sortBy(lambda x: -x[1]).toDF([\"CrimeCode\", \"NumRecords\"])\n",
    "NumRecords_code_df.toPandas().to_csv(\"records_per_crimecode.csv\")\n",
    "NumRecords_code_df.show(5)"
   ]
  },
  {
   "cell_type": "markdown",
   "metadata": {
    "id": "oC18vC_390S4"
   },
   "source": [
    "**Imagescore and CarSpeed Details for crimcecode 2002 ( Unauthorized  Speed Crime )**"
   ]
  },
  {
   "cell_type": "code",
   "execution_count": null,
   "metadata": {
    "colab": {
     "base_uri": "https://localhost:8080/"
    },
    "id": "-h-CT_U37Wf0",
    "outputId": "7d650dfd-1e48-49d7-cd5e-42b1ad10cc38"
   },
   "outputs": [],
   "source": [
    "df.select(col(\"ImageScore\"), col(\"CrimeCode\"), col(\"CarSpeed\")).filter(df.CrimeCode == 2002).describe().show()"
   ]
  },
  {
   "cell_type": "markdown",
   "metadata": {
    "id": "g9yuuAIWIGbL"
   },
   "source": [
    "**Number Of Records Each Camera Logged**"
   ]
  },
  {
   "cell_type": "code",
   "execution_count": null,
   "metadata": {
    "colab": {
     "base_uri": "https://localhost:8080/",
     "height": 312
    },
    "id": "H3iDKiLLQTmD",
    "outputId": "3ba67b73-fc36-4f5d-fecb-e8e055e4337e"
   },
   "outputs": [],
   "source": [
    "NumRecords_df = df.select(col(\"DeviceId\")).rdd.map(lambda id: (id[0], 1)).reduceByKey(lambda x,y: x+y).toDF([\"CameraId\", \"NumRecords\"])\n",
    "NumRecords_df.toPandas().plot.scatter(x='CameraId', y='NumRecords', c='DarkBlue', title = \"Number Of Records Each Camera Logged\")"
   ]
  },
  {
   "cell_type": "markdown",
   "metadata": {
    "id": "PDonNGutIX6B"
   },
   "source": [
    "**Number Of Logged Records Per Day**"
   ]
  },
  {
   "cell_type": "code",
   "execution_count": null,
   "metadata": {
    "colab": {
     "base_uri": "https://localhost:8080/",
     "height": 312
    },
    "id": "uMTSy7aHRNin",
    "outputId": "30140095-ec44-48eb-a1a5-6ce0f89a0365"
   },
   "outputs": [],
   "source": [
    "NumRecords_day_df = df.select(dayofyear(col(\"PassDatetime\"))).rdd.map(lambda id: (id[0], 1)).reduceByKey(lambda x,y: x+y).toDF([\"DayOfYear\", \"NumRecords\"])\n",
    "NumRecords_day_df.toPandas().plot.scatter(x='DayOfYear', y='NumRecords', c='DarkBlue', title = \"Number Of Records Each Camera Logged\")"
   ]
  },
  {
   "cell_type": "markdown",
   "metadata": {
    "id": "jlIUFaf5UkZ1"
   },
   "source": [
    "**Number Of Logged Records Per Week**"
   ]
  },
  {
   "cell_type": "code",
   "execution_count": null,
   "metadata": {
    "colab": {
     "base_uri": "https://localhost:8080/",
     "height": 312
    },
    "id": "4VVHSy_8UmzF",
    "outputId": "957a764f-e901-4a22-af36-4eae5c83b319"
   },
   "outputs": [],
   "source": [
    "NumRecords_week_df = df.select(weekofyear(col(\"PassDatetime\"))).rdd.map(lambda id: (id[0], 1)).reduceByKey(lambda x,y: x+y).toDF([\"WeakOfYear\", \"NumRecords\"])\n",
    "NumRecords_week_df.toPandas().plot.scatter(x='WeakOfYear', y='NumRecords', c='DarkBlue', title = \"Number Of Records Each Camera Logged\")"
   ]
  },
  {
   "cell_type": "markdown",
   "metadata": {
    "id": "ikvsavuOK5rO"
   },
   "source": [
    "**Cameras That do not Log Speed**"
   ]
  },
  {
   "cell_type": "code",
   "execution_count": null,
   "metadata": {
    "colab": {
     "base_uri": "https://localhost:8080/"
    },
    "id": "zI16exo30OTk",
    "outputId": "6947f32a-c001-4368-a395-f91d835c6861"
   },
   "outputs": [],
   "source": [
    "camera_without_speed = df.select(col(\"DeviceId\"), col(\"CarSpeed\")).rdd.reduceByKey(lambda x,y: x+y).filter(lambda x: x[1] == 0).map(lambda x: (x[0], )).toDF([\"DeviceId\"])\n",
    "camera_without_speed.toPandas().to_csv(\"cameras_without_speed.csv\")\n",
    "camera_without_speed.show(5)"
   ]
  },
  {
   "cell_type": "markdown",
   "metadata": {
    "id": "U5mBQbGEO63r"
   },
   "source": [
    "**Number of Logged Records Per Company**"
   ]
  },
  {
   "cell_type": "code",
   "execution_count": null,
   "metadata": {
    "colab": {
     "base_uri": "https://localhost:8080/"
    },
    "id": "Z7ZjiaEjRAFH",
    "outputId": "65b891fd-b168-4906-cea5-1a949bccbb3c"
   },
   "outputs": [],
   "source": [
    "company_record = df.select(col(\"CompanyId\")).rdd.map(lambda id: (id[0], 1)).reduceByKey(lambda x,y: x+y).sortBy(lambda x: -x[1]).toDF([\"CompanyId\", \"NumRecords\"])\n",
    "company_record.toPandas().to_csv(\"company_records.csv\")\n",
    "company_record.show(5)"
   ]
  },
  {
   "cell_type": "markdown",
   "metadata": {
    "id": "hZZ0-I7CPUrv"
   },
   "source": [
    "**Camera Devices That Was Less Active OverAll ( Less Than 100000 records )**"
   ]
  },
  {
   "cell_type": "code",
   "execution_count": null,
   "metadata": {
    "colab": {
     "base_uri": "https://localhost:8080/"
    },
    "id": "Uuh_K-lmWfUF",
    "outputId": "9db7ab04-282e-4dc2-b1ef-bc979fae53ab"
   },
   "outputs": [],
   "source": [
    "less_active_df = df.select(col(\"DeviceId\")).rdd.map(lambda id: (id[0], 1)).reduceByKey(lambda x,y: x+y).filter(lambda x : x[1] < 100000).sortBy(lambda x: -x[1]).toDF([\"CameraId\", \"NumRecords\"])\n",
    "less_active_df.toPandas().to_csv(\"less_active_devices.csv\")\n",
    "less_active_df.show(5)"
   ]
  },
  {
   "cell_type": "markdown",
   "metadata": {
    "id": "7wnZsVFrXzkq"
   },
   "source": [
    "**Camera Devices That is Broken Or does'nt have Image Score**"
   ]
  },
  {
   "cell_type": "code",
   "execution_count": null,
   "metadata": {
    "colab": {
     "base_uri": "https://localhost:8080/"
    },
    "id": "U3zoWlPPXxJ4",
    "outputId": "0ef9c8e8-8b7c-4db4-924e-05a6831e4dc0"
   },
   "outputs": [],
   "source": [
    "score_df = df.select(col(\"DeviceId\"), col(\"ImageScore\")).rdd.reduceByKey(lambda x,y: x+y).filter(lambda x: x[1] == 0).map(lambda x: (x[0], )).toDF([\"DeviceId\"])\n",
    "score_df.toPandas().to_csv(\"withoutScore_Broken_Devices.csv\")\n",
    "score_df.show(5)"
   ]
  },
  {
   "cell_type": "markdown",
   "metadata": {
    "id": "LbHDjhtubOb3"
   },
   "source": [
    "**With High Probability Broken Devices**"
   ]
  },
  {
   "cell_type": "code",
   "execution_count": null,
   "metadata": {
    "colab": {
     "base_uri": "https://localhost:8080/"
    },
    "id": "BnOTDHa6bT37",
    "outputId": "0334385a-3d1c-45b7-aae1-2d5106cd9a8a"
   },
   "outputs": [],
   "source": [
    "broken_df = score_df.join(less_active_df, score_df.DeviceId == less_active_df.CameraId).select(col(\"DeviceId\"))\n",
    "broken_df.toPandas().to_csv(\"HighProb_Broken_Devices.csv\")\n",
    "broken_df.show(5)"
   ]
  },
  {
   "cell_type": "markdown",
   "metadata": {
    "id": "LAL6rVkgOmHE"
   },
   "source": [
    "**Count of Distincts**"
   ]
  },
  {
   "cell_type": "code",
   "execution_count": null,
   "metadata": {
    "id": "SGconI6NOl2r"
   },
   "outputs": [],
   "source": [
    "camera_nums = df.select(col(\"DeviceId\")).distinct().count()"
   ]
  },
  {
   "cell_type": "markdown",
   "metadata": {
    "id": "pPS5lngOJBQx"
   },
   "source": [
    "## **Frequent Itemsets**"
   ]
  },
  {
   "cell_type": "markdown",
   "metadata": {
    "id": "fMjAWqHTlt2p"
   },
   "source": [
    "**Making Baskets**"
   ]
  },
  {
   "cell_type": "code",
   "execution_count": null,
   "metadata": {
    "colab": {
     "base_uri": "https://localhost:8080/"
    },
    "id": "YrVnPzPgJFfn",
    "outputId": "5164aee8-1590-4361-fe5f-f4906f45ea9e"
   },
   "outputs": [],
   "source": [
    "basket_holder = df.select(col(\"PassDatetime\").alias('time'), col(\"MasterPlateNumber\").alias('car'), col(\"DeviceId\").alias('camera')) \\\n",
    ".groupby(\"car\", dayofyear(\"time\")).agg(collect_set( \"camera\").alias(\"items\"))\n",
    "\n",
    "basket_holder.show(3)"
   ]
  },
  {
   "cell_type": "markdown",
   "metadata": {
    "id": "xvtJyvLOlxaM"
   },
   "source": [
    "**Baskets for Specific Car**"
   ]
  },
  {
   "cell_type": "code",
   "execution_count": null,
   "metadata": {
    "colab": {
     "base_uri": "https://localhost:8080/"
    },
    "id": "OKi3ZUJdC0Td",
    "outputId": "b1c27cc6-d283-4bea-8545-31e5f53b1a20"
   },
   "outputs": [],
   "source": [
    "basket_holder.filter(basket_holder.car == '11199425').show()"
   ]
  },
  {
   "cell_type": "markdown",
   "metadata": {
    "id": "wy8NYQpnl1vL"
   },
   "source": [
    "**FP-Growth Algorithm**"
   ]
  },
  {
   "cell_type": "code",
   "execution_count": null,
   "metadata": {
    "id": "z054tmB3LPCu"
   },
   "outputs": [],
   "source": [
    "fp = FPGrowth(minSupport=0.001, minConfidence=0.5)\n",
    "fpm = fp.fit(basket_holder)"
   ]
  },
  {
   "cell_type": "markdown",
   "metadata": {
    "id": "CsNeoIwImIZl"
   },
   "source": [
    "**Build Dataframe Of Frequent Itemsets**"
   ]
  },
  {
   "cell_type": "code",
   "execution_count": null,
   "metadata": {
    "colab": {
     "base_uri": "https://localhost:8080/"
    },
    "id": "t4mKmNTHQDGB",
    "outputId": "b5780ff6-b093-429f-e679-34dc985f19d1"
   },
   "outputs": [],
   "source": [
    "freq_df = fpm.freqItemsets.withColumn(\"items\", col(\"items\").cast(\"string\"))\n",
    "\n",
    "freq_df.toPandas().to_csv(\"freq_item_01.csv\")\n",
    "\n",
    "freq_df.show(3)"
   ]
  },
  {
   "cell_type": "markdown",
   "metadata": {
    "id": "bAdvcz8Lm4hF"
   },
   "source": [
    "**Build Dataframe Of Association Rules**"
   ]
  },
  {
   "cell_type": "code",
   "execution_count": null,
   "metadata": {
    "colab": {
     "base_uri": "https://localhost:8080/"
    },
    "id": "U-ihqJA1XGxP",
    "outputId": "fc9a020b-4fc6-4241-acae-a471d07aad07"
   },
   "outputs": [],
   "source": [
    "assoc_df = fpm.associationRules.withColumn(\"antecedent\", col(\"antecedent\").cast(\"string\"))\n",
    "assoc_df = assoc_df.withColumn(\"consequent\", col(\"consequent\").cast(\"string\"))\n",
    "\n",
    "# cache df for search\n",
    "assoc_df.cache()\n",
    "\n",
    "assoc_df.toPandas().to_csv(\"assoc_rules_01.csv\")\n",
    "\n",
    "assoc_df.show(3)"
   ]
  },
  {
   "cell_type": "markdown",
   "metadata": {
    "id": "b_1MmiEFnBps"
   },
   "source": [
    "**Suggest New Paths**"
   ]
  },
  {
   "cell_type": "code",
   "execution_count": null,
   "metadata": {
    "colab": {
     "base_uri": "https://localhost:8080/"
    },
    "id": "jwl9Wu_Ddbeq",
    "outputId": "0f3a1901-eb38-4c8d-d1be-1ad08b882e42"
   },
   "outputs": [],
   "source": [
    "from itertools import combinations\n",
    "import numpy as np\n",
    "\n",
    "# finding all subset of lists with len = [1,n]\n",
    "def subset(setInp):\n",
    "    subsets = []\n",
    "    for i in np.arange(1, len(setInp)+1):\n",
    "        subsets.extend(list(combinations(setInp, i)))\n",
    "\n",
    "    subsets = [str(list(x)) for x in subsets]\n",
    "    return subsets\n",
    "\n",
    "# new driver that we want to recommend him/her new path\n",
    "new_driver = [1671, 1950] \n",
    "new_driver_df = spark.createDataFrame(subset(new_driver), StringType()).select(col(\"value\").alias(\"antecedent\"))\n",
    "\n",
    "new_driver_df.join(assoc_df, \"antecedent\").show()\n"
   ]
  },
  {
   "cell_type": "markdown",
   "metadata": {
    "id": "XfwLAhsOsT4Y"
   },
   "source": [
    "**LSH**"
   ]
  },
  {
   "cell_type": "markdown",
   "metadata": {
    "id": "hYlVFSBV7yLP"
   },
   "source": [
    "**Data Preparation**"
   ]
  },
  {
   "cell_type": "markdown",
   "metadata": {
    "id": "rU8Kl-p99PmU"
   },
   "source": [
    "Dataframe containing (time, car, camera)"
   ]
  },
  {
   "cell_type": "code",
   "execution_count": null,
   "metadata": {
    "colab": {
     "base_uri": "https://localhost:8080/"
    },
    "id": "EYnFj2HH7xxL",
    "outputId": "fbed9a7c-bb49-414d-eaca-37299a653aae"
   },
   "outputs": [],
   "source": [
    "time_car_cam_df = df.select(col(\"PassDatetime\").alias(\"time\"), col(\"MasterPlateNumber\").alias(\"car\"), col(\"DeviceId\").alias(\"camera\")).withColumn(\"time\", dayofyear(col(\"time\")))\n",
    "\n",
    "time_car_cam_df.show(3)\n"
   ]
  },
  {
   "cell_type": "markdown",
   "metadata": {
    "id": "QEIyWfO19eVS"
   },
   "source": [
    "Creating a Hash Dataframe so we can Hash each cameraId to [0, len(cameraId)]"
   ]
  },
  {
   "cell_type": "code",
   "execution_count": null,
   "metadata": {
    "colab": {
     "base_uri": "https://localhost:8080/"
    },
    "id": "xhTyfch08ndp",
    "outputId": "62fa9f96-e675-46c5-fa63-bdbbf83ebcac"
   },
   "outputs": [],
   "source": [
    "distinct_cameras = df.select(col(\"DeviceId\").alias(\"camera\")).distinct().rdd.zipWithIndex().map(lambda x: (x[0][0], x[1])).toDF([\"camera\", \"id\"])\n",
    "\n",
    "distinct_cameras.show()"
   ]
  },
  {
   "cell_type": "markdown",
   "metadata": {
    "id": "y7up_JgJ-fhh"
   },
   "source": [
    "Join two Dfs and change cameraId to New Id"
   ]
  },
  {
   "cell_type": "code",
   "execution_count": null,
   "metadata": {
    "colab": {
     "base_uri": "https://localhost:8080/"
    },
    "id": "lx5-s6uI-R7c",
    "outputId": "1533cc67-ef23-4283-f0fa-d43f84f73dc9"
   },
   "outputs": [],
   "source": [
    "time_car_newId_df = time_car_cam_df.join(distinct_cameras, \"camera\").drop(\"camera\")\n",
    "\n",
    "time_car_newId_df.show(3)"
   ]
  },
  {
   "cell_type": "markdown",
   "metadata": {
    "id": "FRr4PhQrcfrr"
   },
   "source": [
    "Build undirected paths"
   ]
  },
  {
   "cell_type": "code",
   "execution_count": null,
   "metadata": {
    "colab": {
     "base_uri": "https://localhost:8080/"
    },
    "id": "sDuNru54AEUG",
    "outputId": "369cea8e-1e80-4443-e866-0c19f636a335"
   },
   "outputs": [],
   "source": [
    "build_path = time_car_newId_df.rdd.map(lambda x: ((x[0], x[1]), x[2])).groupByKey()\n",
    "build_path.cache()\n",
    "\n",
    "build_path.take(3)"
   ]
  },
  {
   "cell_type": "markdown",
   "metadata": {
    "id": "y8Zf-NNzclyX"
   },
   "source": [
    "Prepare it for Sparse Transformation"
   ]
  },
  {
   "cell_type": "code",
   "execution_count": null,
   "metadata": {
    "colab": {
     "base_uri": "https://localhost:8080/"
    },
    "id": "DK6-5plxOowt",
    "outputId": "c698fad2-9895-40f1-f6c3-2945e5c162a9"
   },
   "outputs": [],
   "source": [
    "def add_value(x):\n",
    "\n",
    "  unique_list = list(set(x[1]))\n",
    "  value_list = []\n",
    "\n",
    "  for item in unique_list:\n",
    "    value_list.append((item, 1.0))\n",
    "\n",
    "  return (x[0][1], value_list)\n",
    "\n",
    "path_with_value = build_path.map(lambda x: add_value(x))\n",
    "\n",
    "path_with_value.take(1)"
   ]
  },
  {
   "cell_type": "markdown",
   "metadata": {
    "id": "h33ZJwUPcpxe"
   },
   "source": [
    "Convert it to SparseVector"
   ]
  },
  {
   "cell_type": "code",
   "execution_count": null,
   "metadata": {
    "colab": {
     "base_uri": "https://localhost:8080/"
    },
    "id": "o6XDAFelVfZZ",
    "outputId": "5653a532-4858-4084-979d-33c7c286c91f"
   },
   "outputs": [],
   "source": [
    "from pyspark.ml.linalg import Vectors\n",
    "\n",
    "sparse_value = path_with_value.map(lambda x: (x[0], Vectors.sparse(camera_nums ,x[1]))).toDF([\"car\", \"sparse_items\"])\n",
    "\n",
    "sparse_value.show(1)"
   ]
  },
  {
   "cell_type": "markdown",
   "metadata": {
    "id": "gYZeDYv-j2oa"
   },
   "source": [
    "**MinHash**"
   ]
  },
  {
   "cell_type": "markdown",
   "metadata": {
    "id": "BrsY6oRle0W2"
   },
   "source": [
    "Computing Hash Funtions"
   ]
  },
  {
   "cell_type": "code",
   "execution_count": null,
   "metadata": {
    "id": "rnc_D4YqX3Fg"
   },
   "outputs": [],
   "source": [
    "mh =  MinHashLSH(inputCol=\"sparse_items\", outputCol=\"minHash\", numHashTables=5, seed=5123)\n",
    "\n",
    "model = mh.fit(sparse_value)\n",
    "\n",
    "minhash_basket = model.transform(sparse_value)"
   ]
  },
  {
   "cell_type": "markdown",
   "metadata": {
    "id": "s19vM8ksfY9q"
   },
   "source": [
    "Show sample of Hashes"
   ]
  },
  {
   "cell_type": "code",
   "execution_count": null,
   "metadata": {
    "colab": {
     "base_uri": "https://localhost:8080/"
    },
    "id": "C4oprLOcoaOg",
    "outputId": "39c2ae05-5517-4bf9-ece0-cf19aed84156"
   },
   "outputs": [],
   "source": [
    "minhash_basket.show(3)"
   ]
  },
  {
   "cell_type": "markdown",
   "metadata": {
    "id": "GSlJ-P0gfb1t"
   },
   "source": [
    "Extract One Vector So we find its 10 Nearest Neighbors"
   ]
  },
  {
   "cell_type": "code",
   "execution_count": null,
   "metadata": {
    "colab": {
     "base_uri": "https://localhost:8080/"
    },
    "id": "MPcJl5Ijb3gl",
    "outputId": "61e1d63a-35a7-4d66-bc64-c6f4d58478c1"
   },
   "outputs": [],
   "source": [
    "find_near_vects = sparse_value.rdd.map(lambda x: (x[0], x[1])).take(1)[0]\n",
    "find_near_vects"
   ]
  },
  {
   "cell_type": "markdown",
   "metadata": {
    "id": "6APdCxiQfk0_"
   },
   "source": [
    "10 Nearest Neighbors Base One Minhash"
   ]
  },
  {
   "cell_type": "code",
   "execution_count": null,
   "metadata": {
    "colab": {
     "base_uri": "https://localhost:8080/"
    },
    "id": "1W-t2FGIGpfQ",
    "outputId": "ed23e36f-c71c-467f-91c7-7c56cf92a284"
   },
   "outputs": [],
   "source": [
    "model.approxNearestNeighbors(sparse_value, find_near_vects[1], 10).collect()"
   ]
  },
  {
   "cell_type": "markdown",
   "metadata": {
    "id": "9hcR5CW1dFVC"
   },
   "source": [
    "## **PageRank**"
   ]
  },
  {
   "cell_type": "markdown",
   "metadata": {
    "id": "GZL7o_ikRxaQ"
   },
   "source": [
    "**Building Paths ( each user in each day build one path )**"
   ]
  },
  {
   "cell_type": "code",
   "execution_count": null,
   "metadata": {
    "colab": {
     "base_uri": "https://localhost:8080/"
    },
    "id": "VuU767QzPl3_",
    "outputId": "ecc38838-23cd-431e-80dd-a41b6f834f61"
   },
   "outputs": [],
   "source": [
    "path_df = df.select(col(\"PassDatetime\").alias('time'), col(\"MasterPlateNumber\").alias('car'), col(\"DeviceId\").alias('camera')) \\\n",
    ".groupby(\"car\", dayofyear(\"time\")) \\\n",
    ".agg(collect_set(struct(\"time\", \"camera\")).alias(\"list_col\"))\n",
    "\n",
    "path_df.show(3)"
   ]
  },
  {
   "cell_type": "markdown",
   "metadata": {
    "id": "ufOxiHXnSCNm"
   },
   "source": [
    "**Sort CameraId in Each path base on TimeStamp so we get a directed path**"
   ]
  },
  {
   "cell_type": "code",
   "execution_count": null,
   "metadata": {
    "id": "a1z7P-U0Ckp4"
   },
   "outputs": [],
   "source": [
    "import operator\n",
    "\n",
    "def path_find(row_detail):\n",
    "\n",
    "  res = sorted(row_detail, key=operator.itemgetter(0))\n",
    "  items = [item[1] for item in res]\n",
    "\n",
    "  if(len(items) > 1):\n",
    "    return items\n",
    "\n",
    "path_udf = udf(lambda x: path_find(x), ArrayType(IntegerType()))\n",
    "\n",
    "path_df = path_df.withColumn(\"paths\", path_udf(col(\"list_col\")))\n",
    "\n",
    "path_df = path_df.select(col(\"car\"), col(\"paths\")).rdd.filter(lambda x: x[1] != None)"
   ]
  },
  {
   "cell_type": "markdown",
   "metadata": {
    "id": "nFLIlEUySYf0"
   },
   "source": [
    "**Create Graph of paths ( each node with its adjacency List )**"
   ]
  },
  {
   "cell_type": "code",
   "execution_count": null,
   "metadata": {
    "id": "No6Jp9QpDsR7"
   },
   "outputs": [],
   "source": [
    "def path_build(path_list):\n",
    "\n",
    "  out_list = []\n",
    "\n",
    "  for i in range(len(path_list) - 1):\n",
    "    out_list.append((path_list[i], {path_list[i+1]}))\n",
    "  \n",
    "  return out_list\n",
    "\n",
    "pred_list = path_df.flatMap(lambda x: path_build(x[1])).reduceByKey(lambda x,y : x|y)\n",
    "pred_list = pred_list.cache()\n",
    "\n",
    "pred_list.take(3)"
   ]
  },
  {
   "cell_type": "markdown",
   "metadata": {
    "id": "XV4RBIbmayhk"
   },
   "source": [
    "**Exact PageRank Calculator**"
   ]
  },
  {
   "cell_type": "code",
   "execution_count": null,
   "metadata": {
    "id": "9AwcVotma8Px"
   },
   "outputs": [],
   "source": [
    "def computeContribs(neighbors, rank):\n",
    "    \n",
    "    num_neighbors = len(neighbors)\n",
    "    for neigh in neighbors:\n",
    "        yield (neigh, rank / num_neighbors)\n",
    "\n",
    "def pagerank(ranks, alpha, thresh = 0.01):\n",
    "\n",
    "  range_convergence = int(np.log10(thresh) / np.log10(1 - alpha)) + 1\n",
    "\n",
    "  # Calculates and updates Neighbor ranks continuously using PageRank algorithm.\n",
    "  for i in range(range_convergence):\n",
    "    # Calculates point contributions to the rank of other points.\n",
    "    contribs = pred_list.join(ranks).flatMap(\n",
    "        lambda point_neigh_rank: computeContribs(point_neigh_rank[1][0], point_neigh_rank[1][1]))\n",
    "\n",
    "    # Re-calculates point ranks based on neighbor contributions.\n",
    "    ranks = contribs.reduceByKey(operator.add).mapValues(lambda rank: rank * (1 - alpha) + alpha)\n",
    "    \n",
    "  # calculate diffrence between new ranks and old ranks using l1 norm\n",
    "  #diff_ranks = ranks.join(new_ranks).map(lambda point_ranks: (1, np.abs(point_ranks[1][0] - point_ranks[1][1]))).reduceByKey(operator.add).collect()[0][1] / camera_nums\n",
    "  #print(\"round = \" + str(i))\n",
    "  #print(\"diff val = \" + str(diff_ranks))\n",
    "\n",
    "  #ranks = new_ranks\n",
    "\n",
    "  return ranks\n",
    "\n",
    "# initialize rank of all points to 1\n",
    "ranks = df.select(col(\"DeviceId\")).distinct().rdd.map(lambda x: (x[0], 1.0))\n",
    "\n",
    "ranks = pagerank(ranks, 0.15, 0.001)\n",
    "\n",
    "ranks = ranks.sortBy(lambda a: -a[1])\n",
    "\n",
    "spark.createDataFrame(ranks, [\"cameraId\", \"PageRank\"]).toPandas().to_csv(\"pagerank_cameras.csv\")"
   ]
  },
  {
   "cell_type": "markdown",
   "metadata": {
    "id": "ksSU82aBgXdm"
   },
   "source": [
    "## **Recommendation System**"
   ]
  },
  {
   "cell_type": "code",
   "execution_count": null,
   "metadata": {
    "id": "zbJ519sn77sG"
   },
   "outputs": [],
   "source": [
    "from pyspark.mllib.recommendation import Rating\n",
    "from pyspark.mllib.recommendation import ALS\n",
    "from pyspark.mllib.evaluation import RegressionMetrics\n",
    "from pyspark.ml.feature import MinMaxScaler"
   ]
  },
  {
   "cell_type": "markdown",
   "metadata": {
    "id": "2aD02IoD77LO"
   },
   "source": [
    "**Creating (Car, camera, Score)**"
   ]
  },
  {
   "cell_type": "code",
   "execution_count": null,
   "metadata": {
    "colab": {
     "base_uri": "https://localhost:8080/"
    },
    "id": "-9aiB7Fk3TJU",
    "outputId": "b041ba85-d0d5-4ff3-cf4e-c4765d31ec79"
   },
   "outputs": [],
   "source": [
    "car_camera_rating = df.select(col(\"MasterPlateNumber\").alias('car'), col(\"DeviceId\").alias('camera')).rdd.map(lambda x: ((x[0], x[1]), 1))\\\n",
    ".reduceByKey(lambda x,y : x+y).map(lambda x: (x[0][0], x[0][1], x[1]))\n",
    "\n",
    "car_camera_rating.take(3)"
   ]
  },
  {
   "cell_type": "markdown",
   "metadata": {
    "id": "djlpN8qlgKI2"
   },
   "source": [
    "**Show Details of Rating**"
   ]
  },
  {
   "cell_type": "code",
   "execution_count": null,
   "metadata": {
    "colab": {
     "base_uri": "https://localhost:8080/"
    },
    "id": "d-HRBP147KyO",
    "outputId": "3c9f1cdf-72d8-454a-b040-df94b3d8b132"
   },
   "outputs": [],
   "source": [
    "car_camera_rating_df = car_camera_rating.toDF([\"car\", \"camera\", \"rating\"])\n",
    "\n",
    "car_camera_rating_df.select(col(\"rating\")).describe().show()"
   ]
  },
  {
   "cell_type": "markdown",
   "metadata": {
    "id": "jYlqwNs5gQY_"
   },
   "source": [
    "**GroupBy each camera so we have List of (car, Ratings)**"
   ]
  },
  {
   "cell_type": "code",
   "execution_count": null,
   "metadata": {
    "colab": {
     "base_uri": "https://localhost:8080/"
    },
    "id": "B15-pXc5JNO1",
    "outputId": "5da80729-a422-442e-aa78-1e61977515bc"
   },
   "outputs": [],
   "source": [
    "normalize_rating_rdd = car_camera_rating_df.rdd.map(lambda x: (x[1], (x[0], x[2]))).groupByKey()\n",
    "\n",
    "normalize_rating_rdd.cache()"
   ]
  },
  {
   "cell_type": "markdown",
   "metadata": {
    "id": "q5AM2wbCgXZj"
   },
   "source": [
    "**Normalize Ratings of Each camera between 0 and 1**"
   ]
  },
  {
   "cell_type": "code",
   "execution_count": null,
   "metadata": {
    "colab": {
     "base_uri": "https://localhost:8080/"
    },
    "id": "gdy8R6P5N_CA",
    "outputId": "ea203dee-c5e9-45ac-c32c-1751e02cae43"
   },
   "outputs": [],
   "source": [
    "from operator import itemgetter\n",
    "import builtins as py_builtin\n",
    "\n",
    "\n",
    "def normalize_func(x):\n",
    "  max_rating = py_builtin.max(x[1],key=itemgetter(1))[1]\n",
    "\n",
    "  output = []\n",
    "\n",
    "  for items in x[1]:\n",
    "    output.append((items[0], x[0], items[1]/max_rating))\n",
    "\n",
    "  return output\n",
    "\n",
    "normalized_rdd = normalize_rating_rdd.flatMap(lambda x: normalize_func(x))\n",
    "\n",
    "normalized_rdd.cache()\n",
    "\n",
    "normalized_rdd.take(3)"
   ]
  },
  {
   "cell_type": "markdown",
   "metadata": {
    "id": "UcbjpY7pgcyk"
   },
   "source": [
    "**Creating Rating**"
   ]
  },
  {
   "cell_type": "code",
   "execution_count": null,
   "metadata": {
    "colab": {
     "base_uri": "https://localhost:8080/"
    },
    "id": "roGGNxZkTEf7",
    "outputId": "de17ec11-0aca-4eaa-a0d8-cb7de9dd1f5e"
   },
   "outputs": [],
   "source": [
    "ratings = normalized_rdd.map(lambda x: Rating(x[0], x[1], x[2]))\n",
    "\n",
    "ratings.take(3)"
   ]
  },
  {
   "cell_type": "markdown",
   "metadata": {
    "id": "17Qf-OxZgjVB"
   },
   "source": [
    "**Compute ALS Algorithm**"
   ]
  },
  {
   "cell_type": "code",
   "execution_count": null,
   "metadata": {
    "id": "hV2CwvXuUFAh"
   },
   "outputs": [],
   "source": [
    "#Split data 80/20\n",
    "train, test = ratings.randomSplit([0.8, 0.2])\n",
    "\n",
    "# train the model\n",
    "trained_model = ALS.train(train, rank = 15, iterations= 20, lambda_=0.01)"
   ]
  },
  {
   "cell_type": "markdown",
   "metadata": {},
   "source": [
    "<b> Evaluate the model </b>"
   ]
  },
  {
   "cell_type": "code",
   "execution_count": null,
   "metadata": {
    "id": "mvuAkfF9ULUR"
   },
   "outputs": [],
   "source": [
    "# extract just user and product\n",
    "train_features = train.map(lambda x: (x.user, x.product))\n",
    "\n",
    "# predict by train data\n",
    "train_predict_rating = trained_model.predictAll(train_features).map(lambda x: ((x[0], x[1]), x[2]))\n",
    "\n",
    "# real train rating\n",
    "train_real_rating = train.map(lambda x: ((x.user, x.product), x.rating))\n",
    "\n",
    "# join predict and real rating\n",
    "predict_join_real = train_predict_rating.join(train_real_rating).map(lambda x: x[1])\n",
    "\n",
    "# compute regression metrics on train\n",
    "train_metrics = RegressionMetrics(predict_join_real)\n",
    "# train evaluation\n",
    "train_mse = train_metrics.meanSquaredError\n",
    "print(\"train mse:\", train_mse)\n",
    "\n",
    "# extract just user and product\n",
    "test_features = test.map(lambda x: (x.user, x.product))\n",
    "\n",
    "# predict by test data\n",
    "test_predict_rating = trained_model.predictAll(test_features).map(lambda x: ((x[0], x[1]), x[2]))\n",
    "\n",
    "# real test rating\n",
    "test_real_rating = test.map(lambda x: ((x.user, x.product), x.rating))\n",
    "\n",
    "# join predict and real rating\n",
    "predict_join_real = test_predict_rating.join(test_real_rating).map(lambda x: x[1])\n",
    "\n",
    "# compute regression metrics on test\n",
    "test_metrics = RegressionMetrics(predict_join_real)\n",
    "\n",
    "# test evaluation\n",
    "test_mae = test_metrics.meanSquaredError\n",
    "print(\"test mse:\",test_mae)"
   ]
  }
 ],
 "metadata": {
  "application/vnd.databricks.v1+notebook": {
   "dashboards": [],
   "language": "python",
   "notebookName": "2020-11-12 - DBFS Example",
   "notebookOrigID": 3943517766763034,
   "widgets": {}
  },
  "colab": {
   "collapsed_sections": [],
   "name": "Project.ipynb",
   "provenance": [],
   "toc_visible": true
  },
  "kernelspec": {
   "display_name": "Python 3 (ipykernel)",
   "language": "python",
   "name": "python3"
  },
  "language_info": {
   "codemirror_mode": {
    "name": "ipython",
    "version": 3
   },
   "file_extension": ".py",
   "mimetype": "text/x-python",
   "name": "python",
   "nbconvert_exporter": "python",
   "pygments_lexer": "ipython3",
   "version": "3.9.7"
  }
 },
 "nbformat": 4,
 "nbformat_minor": 1
}
